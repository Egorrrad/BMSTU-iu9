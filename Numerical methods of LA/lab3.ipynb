{
 "cells": [
  {
   "cell_type": "code",
   "execution_count": null,
   "id": "beeedfaa-8447-4f61-8743-c747f974346b",
   "metadata": {},
   "outputs": [],
   "source": [
    "using LinearAlgebra\n",
    "using Polynomials"
   ]
  },
  {
   "cell_type": "code",
   "execution_count": 4,
   "id": "3a4940f6-6d66-4139-adbb-ab0ac8cf551f",
   "metadata": {},
   "outputs": [
    {
     "data": {
      "text/plain": [
       "gershgorin_intervals (generic function with 1 method)"
      ]
     },
     "execution_count": 4,
     "metadata": {},
     "output_type": "execute_result"
    }
   ],
   "source": [
    "# метод Гершгорина\n",
    "function gershgorin_intervals(A::Matrix{Float64})\n",
    "    n = size(A, 1)\n",
    "    \n",
    "    intervals = Vector{Tuple{Float64, Float64}}()\n",
    "    \n",
    "    for i in 1:n\n",
    "        # Диагональный элемент a_ii - центр круга Гершгорина\n",
    "        a_ii = A[i, i]\n",
    "        \n",
    "        # Сумма модулей внедиагональных элементов в строке i - радиус круга r_i\n",
    "        # r_i = ∑|a_ij|, j≠i\n",
    "        r_i = sum(j -> j != i ? abs(A[i, j]) : 0.0, 1:n)\n",
    "        \n",
    "        # Интервал для i-го круга Гершгорина: [a_ii - r_i, a_ii + r_i]\n",
    "        # теорема Гершгорина: S_i = {z ∈ C : |z - a_ii| ≤ r_i}\n",
    "        interval = (a_ii - r_i, a_ii + r_i)\n",
    "        push!(intervals, interval)\n",
    "    end\n",
    "    \n",
    "    # объединение всех интервалов\n",
    "    # Все собственные значения лежат в объединении кругов Гершгорина\n",
    "    min_bound = minimum(first.(intervals))\n",
    "    max_bound = maximum(last.(intervals))\n",
    "    overall_interval = (min_bound, max_bound)\n",
    "    \n",
    "    return intervals, overall_interval\n",
    "end\n"
   ]
  },
  {
   "cell_type": "code",
   "execution_count": 5,
   "id": "91f1a85d-332f-4e5f-8967-bdbbeaccbe3a",
   "metadata": {},
   "outputs": [
    {
     "data": {
      "text/plain": [
       "check_gershgorin_intervals (generic function with 1 method)"
      ]
     },
     "execution_count": 5,
     "metadata": {},
     "output_type": "execute_result"
    }
   ],
   "source": [
    "# Проверка интервалов Гершгорина\n",
    "function check_gershgorin_intervals(λs::Vector{Float64}, intervals::Vector{Tuple{Float64,Float64}}, overall_interval::Tuple{Float64,Float64}, tol::Float64)\n",
    "    all_in_overall = true\n",
    "    for (i, λ) in enumerate(λs)\n",
    "        in_overall = (overall_interval[1] - tol <= λ <= overall_interval[2] + tol)\n",
    "        all_in_overall &= in_overall\n",
    "    end\n",
    "    \n",
    "    for (i, λ) in enumerate(λs)\n",
    "        in_specific_intervals = Vector{Tuple{Float64,Float64}}()\n",
    "        interval_indices = Int[]\n",
    "        \n",
    "        for (j, (L, R)) in enumerate(intervals)\n",
    "            if L - tol <= λ <= R + tol\n",
    "                push!(in_specific_intervals, (L, R))\n",
    "                push!(interval_indices, j)\n",
    "            end\n",
    "        end\n",
    "        \n",
    "        if !isempty(in_specific_intervals)\n",
    "            intervals_str = join([\"Δ$idx=[$(round(L, digits=4)), $(round(R, digits=4))]\" \n",
    "                                 for (idx, (L, R)) in zip(interval_indices, in_specific_intervals)], \", \")\n",
    "            println(\"λ$i = $(round(λ, digits=6)) ∈ {$intervals_str}\")\n",
    "        else\n",
    "            println(\"λ$i = $(round(λ, digits=6)) не принадлежит ни одному интервалу!\")\n",
    "        end\n",
    "    end\n",
    "    println()\n",
    "    \n",
    "    return all_in_overall\n",
    "end"
   ]
  },
  {
   "cell_type": "code",
   "execution_count": 6,
   "id": "2e3f686e-729c-49b5-9a06-c091159950a7",
   "metadata": {},
   "outputs": [
    {
     "data": {
      "text/plain": [
       "check_trace (generic function with 1 method)"
      ]
     },
     "execution_count": 6,
     "metadata": {},
     "output_type": "execute_result"
    }
   ],
   "source": [
    " # Проверка следа\n",
    "function check_trace(A::Matrix{Float64}, λs, tol)\n",
    "    tr_A = tr(A)\n",
    "    sum_λ = sum(λs)\n",
    "    tr_error = abs(tr_A - sum_λ)\n",
    "    return tr_error < tol\n",
    "    \n",
    "end"
   ]
  },
  {
   "cell_type": "code",
   "execution_count": 7,
   "id": "98285b5d-22f6-42ca-83b9-5da4f1070809",
   "metadata": {},
   "outputs": [
    {
     "data": {
      "text/plain": [
       "check_determinant (generic function with 1 method)"
      ]
     },
     "execution_count": 7,
     "metadata": {},
     "output_type": "execute_result"
    }
   ],
   "source": [
    "# Проверка определителя\n",
    "function check_determinant(A::Matrix{Float64}, λs, tol)\n",
    "    det_A = det(A)\n",
    "    prod_λ = prod(λs)\n",
    "    det_error = abs(det_A - prod_λ)\n",
    "    return det_error < tol\n",
    "end"
   ]
  },
  {
   "cell_type": "code",
   "execution_count": 8,
   "id": "def8bdfd-2cdf-42ba-ac36-8fcf0a6e0bfd",
   "metadata": {},
   "outputs": [
    {
     "data": {
      "text/plain": [
       "checks (generic function with 1 method)"
      ]
     },
     "execution_count": 8,
     "metadata": {},
     "output_type": "execute_result"
    }
   ],
   "source": [
    "function checks(A::Matrix{Float64}, λs, tol)\n",
    "    trace_check = check_trace(A, λs, tol)\n",
    "    determ_check = check_determinant(A, λs, tol)\n",
    "    intervals, interval = gershgorin_intervals(A)\n",
    "    gersh_check = check_gershgorin_intervals(λs, intervals, interval, tol)\n",
    "    \n",
    "    println(\"Результаты проверок:\")\n",
    "    println(\"След матрицы: $trace_check\")\n",
    "    println(\"Определитель: $determ_check\")\n",
    "    println(\"Интервалы Гершгорина: $gersh_check\")\n",
    "    \n",
    "    all_checks_passed = trace_check && determ_check && gersh_check\n",
    "    println(\"Все проверки пройдены: $all_checks_passed\")\n",
    "end"
   ]
  },
  {
   "cell_type": "code",
   "execution_count": 9,
   "id": "0ee569b5-5f47-44c6-9b9b-9dace0dc3515",
   "metadata": {},
   "outputs": [
    {
     "data": {
      "text/plain": [
       "danilevsky_method_symmetric (generic function with 1 method)"
      ]
     },
     "execution_count": 9,
     "metadata": {},
     "output_type": "execute_result"
    }
   ],
   "source": [
    "# метод А. М. Данилевского\n",
    "function danilevsky_method_symmetric(A::Matrix{Float64})\n",
    "    n = size(A, 1)\n",
    "    \n",
    "    # Проверка симметричности\n",
    "    if !isapprox(A, A')\n",
    "        error(\"Матрица не симметрична!\")\n",
    "    end\n",
    "    \n",
    "    # B_total - матрица подобия\n",
    "    # B = B₁ ⋅ B₂ ⋅ ... ⋅ B_{n-1}\n",
    "    B_total = Matrix{Float64}(I, n, n)\n",
    "    \n",
    "    # P - преобразуемая матрица, начинается с исходной матрицы A\n",
    "    # В конечном итоге должна принять форму Фробениуса\n",
    "    P = copy(A)\n",
    "    \n",
    "    # n-1 преобразований подобия\n",
    "    for k in n-1:-1:1\n",
    "        # Проверка на нулевой элемент\n",
    "        if abs(P[k+1, k]) < 1e-10\n",
    "            error(\"Нулевой элемент на позиции ($(k+1), $k)\")\n",
    "        end\n",
    "        \n",
    "        # Построение матрицы B_k\n",
    "        B_k = Matrix{Float64}(I, n, n)\n",
    "        for j in 1:n\n",
    "            if j != k\n",
    "                # b_{k,j} = -P[k+1, j] / P[k+1, k] для j ≠ k\n",
    "                # формула: b_{n-1,j} = -a_{nj}/a_{n,n-1} для j ≠ n-1\n",
    "                B_k[k, j] = -P[k+1, j] / P[k+1, k]\n",
    "            else\n",
    "                # b_{k,k} = 1 / P[k+1, k]\n",
    "                # формула: b_{n-1,n-1} = 1/a_{n,n-1}\n",
    "                B_k[k, j] = 1.0 / P[k+1, k]\n",
    "            end\n",
    "        end\n",
    "        \n",
    "        # Построение обратной матрицы B_k^{-1}\n",
    "        B_k_inv = Matrix{Float64}(I, n, n)\n",
    "        # k-я строка B_k^{-1} равна (k+1)-й строке матрицы P\n",
    "        B_k_inv[k, :] = P[k+1, :]\n",
    "        \n",
    "        # Преобразование подобия: P = B_k^{-1} ⋅ P ⋅ B_k\n",
    "        P = B_k_inv * P * B_k\n",
    "        \n",
    "        # Накопление матрицы подобия: B_total = B_total ⋅ B_k\n",
    "        B_total = B_total * B_k\n",
    "    end\n",
    "    \n",
    "    # Характеристическое уравнение: λⁿ - p₁λⁿ⁻¹ - p₂λⁿ⁻² - ... - p_n = 0\n",
    "    # Коэффициенты берутся из первой строки матрицы Фробениуса P\n",
    "    coefficients = [1.0; -P[1, :]]\n",
    "\n",
    "    # Нахождение собственных векторов\n",
    "    println(\"Коэффициенты характеристического многочлена: \", round.(coefficients, digits=6))\n",
    "    poly = Polynomial(reverse(coefficients))\n",
    "    \n",
    "    # Находим корни (собственные значения)\n",
    "    λs = roots(poly)\n",
    "\n",
    "    B = B_total\n",
    "    n = size(B, 1)\n",
    "    eigenvectors = Vector{Vector{Float64}}()\n",
    "    \n",
    "    for λ in λs\n",
    "        # Собственный вектор матрицы Фробениуса y\n",
    "        # y = (λⁿ⁻¹, λⁿ⁻², ..., λ, 1)\n",
    "        # из системы y₁ = λy₂, y₂ = λy₃, ..., y_{n-1} = λy_n, y_n = 1\n",
    "        y = [λ^(n-i) for i in 1:n]\n",
    "        \n",
    "        # Собственный вектор исходной матрицы: x = B ⋅ y\n",
    "        x = B * y\n",
    "        \n",
    "        # Нормировка собственного вектора\n",
    "        x_norm = x / norm(x)\n",
    "        push!(eigenvectors, x_norm)\n",
    "    end\n",
    "    \n",
    "    return λs, eigenvectors\n",
    "end"
   ]
  },
  {
   "cell_type": "code",
   "execution_count": 10,
   "id": "07245ab0-f316-4b7b-9b86-6aa27ac7f8ca",
   "metadata": {},
   "outputs": [
    {
     "name": "stdout",
     "output_type": "stream",
     "text": [
      "Матрица A:\n",
      "[2.2 1.0 0.5 2.0; 1.0 1.3 2.0 1.0; 0.5 2.0 0.5 1.6; 2.0 1.0 1.6 2.0]\n",
      "\n",
      "Коэффициенты характеристического многочлена: [1.0, -6.0, -0.2, 12.735, -2.7616]\n",
      "Собственные значения:[-1.4201, 0.2226, 1.5454, 5.652]\n",
      "Собственные векторы:\n",
      "  v1 = [-0.222, 0.5159, -0.7573, 0.3333]\n",
      "  v2 = [-0.5219, -0.4549, 0.1534, 0.7051]\n",
      "  v3 = [0.6289, -0.5726, -0.4857, 0.2019]\n",
      "  v4 = [0.5317, 0.4462, 0.4088, 0.5925]\n",
      "\n",
      "λ1 = -1.420087 ∈ {Δ2=[-2.7, 5.3], Δ3=[-3.6, 4.6], Δ4=[-2.6, 6.6]}\n",
      "λ2 = 0.222636 ∈ {Δ1=[-1.3, 5.7], Δ2=[-2.7, 5.3], Δ3=[-3.6, 4.6], Δ4=[-2.6, 6.6]}\n",
      "λ3 = 1.545418 ∈ {Δ1=[-1.3, 5.7], Δ2=[-2.7, 5.3], Δ3=[-3.6, 4.6], Δ4=[-2.6, 6.6]}\n",
      "λ4 = 5.652032 ∈ {Δ1=[-1.3, 5.7], Δ4=[-2.6, 6.6]}\n",
      "\n",
      "Результаты проверок:\n",
      "След матрицы: true\n",
      "Определитель: true\n",
      "Интервалы Гершгорина: true\n",
      "Все проверки пройдены: true\n"
     ]
    }
   ],
   "source": [
    "function test_danilevski()\n",
    "# Матрица из примера (симметричная)\n",
    "    A = [2.2   1.0   0.5   2.0;\n",
    "         1.0   1.3   2.0   1.0;\n",
    "         0.5   2.0   0.5   1.6;\n",
    "         2.0   1.0   1.6   2.0]\n",
    "    \n",
    "    println(\"Матрица A:\")\n",
    "    println(A)\n",
    "    println()\n",
    "\n",
    "    λs, vectors = danilevsky_method_symmetric(A)\n",
    "    println(\"Собственные значения:\", round.(λs, digits=4))\n",
    "    println(\"Собственные векторы:\")\n",
    "    for (i, vec) in enumerate(vectors)\n",
    "        println(\"  v$i = \", round.(vec, digits=4))\n",
    "    end\n",
    "    println()\n",
    "\n",
    "    tol = 1e-12\n",
    "    checks(A, λs, tol) \n",
    "end\n",
    "\n",
    "test_danilevski()"
   ]
  }
 ],
 "metadata": {
  "kernelspec": {
   "display_name": "Julia 1.11.6",
   "language": "julia",
   "name": "julia-1.11"
  },
  "language_info": {
   "file_extension": ".jl",
   "mimetype": "application/julia",
   "name": "julia",
   "version": "1.11.6"
  }
 },
 "nbformat": 4,
 "nbformat_minor": 5
}
