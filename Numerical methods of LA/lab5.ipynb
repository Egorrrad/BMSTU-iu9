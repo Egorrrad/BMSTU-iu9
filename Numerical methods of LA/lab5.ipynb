{
 "cells": [
  {
   "cell_type": "code",
   "execution_count": 45,
   "id": "940f1924-273f-4149-ab6d-7ed181adc218",
   "metadata": {},
   "outputs": [],
   "source": [
    "using LinearAlgebra"
   ]
  },
  {
   "cell_type": "code",
   "execution_count": 46,
   "id": "dca90362-4cf4-4722-888f-e1f3f9423240",
   "metadata": {
    "scrolled": true
   },
   "outputs": [
    {
     "data": {
      "text/plain": [
       "generate_matrix_with_dominance (generic function with 1 method)"
      ]
     },
     "execution_count": 46,
     "metadata": {},
     "output_type": "execute_result"
    }
   ],
   "source": [
    "# Функция для вычисления степени диагонального преобладания\n",
    "function diagonal_dominance_degree(A)\n",
    "    n = size(A, 1)\n",
    "    dominance = -Inf  # Минимальное значение по всем строкам\n",
    "    for i in 1:n\n",
    "        diag_elem = abs(A[i, i])\n",
    "        row_sum = sum(abs.(A[i, :])) - diag_elem\n",
    "        dominance = max(dominance, diag_elem - row_sum)\n",
    "    end\n",
    "    return dominance\n",
    "end\n",
    "\n",
    "# Функция для генерации матрицы с заданной степенью диагонального преобладания\n",
    "function generate_matrix_with_dominance(n, target_dominance)\n",
    "    A = randn(n, n)\n",
    "    \n",
    "    # Делаем матрицу с заданным диагональным преобладанием\n",
    "    for i in 1:n\n",
    "        row_sum = sum(abs.(A[i, :])) - abs(A[i, i])\n",
    "        if target_dominance >= 0\n",
    "            A[i, i] = sign(A[i, i]) * (row_sum + target_dominance + abs(randn() * 0.1))\n",
    "        else\n",
    "            A[i, i] = sign(A[i, i]) * (row_sum + target_dominance - abs(randn() * 0.1))\n",
    "        end\n",
    "    end\n",
    "    \n",
    "    return A\n",
    "end"
   ]
  },
  {
   "cell_type": "code",
   "execution_count": 47,
   "id": "a7fe3ec8-d36e-43e5-98fe-b4fa81f90a64",
   "metadata": {},
   "outputs": [
    {
     "data": {
      "text/plain": [
       "jacobi_method_complete (generic function with 3 methods)"
      ]
     },
     "execution_count": 47,
     "metadata": {},
     "output_type": "execute_result"
    }
   ],
   "source": [
    "function jacobi_method_complete(A::Matrix{Float64}, f::Vector{Float64}, \n",
    "                               x0::Vector{Float64}, tol::Float64=1e-6, max_iter::Int=1000)\n",
    "    n = length(f)\n",
    "    \n",
    "    # Построение матрицы P: P = -D⁻¹(A - D)\n",
    "    D = Diagonal(diag(A))\n",
    "    D_inv = inv(D)\n",
    "    P = -D_inv * (A - D)\n",
    "    g = D_inv * f         \n",
    "    \n",
    "    x = copy(x0)\n",
    "    \n",
    "    for k in 1:max_iter\n",
    "        # по формуле: X⁽ᵏ⁾ = PX⁽ᵏ⁻¹⁾ + g\n",
    "        x_k = P * x + g \n",
    "        \n",
    "        # Критерий остановки\n",
    "        if norm(x_k - x) < tol\n",
    "            return x_k, k\n",
    "        end\n",
    "        \n",
    "        x = x_k\n",
    "    end\n",
    "    \n",
    "    error(\"Метод Якоби не сошелся за $max_iter итераций\")\n",
    "end"
   ]
  },
  {
   "cell_type": "code",
   "execution_count": 48,
   "id": "9086240f-2d62-452e-81d8-84e897e3ee2e",
   "metadata": {},
   "outputs": [
    {
     "data": {
      "text/plain": [
       "seidel_method_complete (generic function with 3 methods)"
      ]
     },
     "execution_count": 48,
     "metadata": {},
     "output_type": "execute_result"
    }
   ],
   "source": [
    "function seidel_method_complete(A::Matrix{Float64}, f::Vector{Float64}, \n",
    "                              x0::Vector{Float64}, tol::Float64=1e-6, max_iter::Int=1000)\n",
    "    n = length(f)\n",
    "    \n",
    "    # Разложение матрицы A = D + Aminus + Aplus\n",
    "    D = Diagonal(diag(A))                    # Диагональная часть\n",
    "    Aminus = tril(A, -1)                         # Строго нижняя треугольная часть\n",
    "    Aplus = triu(A, 1)                          # Строго верхняя треугольная часть\n",
    "    \n",
    "    # Матрица P для метода Зейделя: P = -(D + Aminus)⁻¹Aplus\n",
    "    P = -inv(D + Aminus) * Aplus                     \n",
    "    g = inv(D + Aminus) * f                      \n",
    "    \n",
    "    x = copy(x0)\n",
    "    \n",
    "    for k in 1:max_iter\n",
    "        # X⁽ᵏ⁾ = PX⁽ᵏ⁻¹⁾ + g\n",
    "        x_k = P * x + g                  \n",
    "        \n",
    "        # Критерий остановки\n",
    "        if norm(x_k - x) < tol\n",
    "            return x_k, k\n",
    "        end\n",
    "        \n",
    "        x = x_k\n",
    "    end\n",
    "    \n",
    "    error(\"Метод Зейделя не сошелся за $max_iter итераций\")\n",
    "end"
   ]
  },
  {
   "cell_type": "code",
   "execution_count": 49,
   "id": "e77e7a0a-539c-4039-8e0e-121601da9728",
   "metadata": {},
   "outputs": [
    {
     "name": "stdout",
     "output_type": "stream",
     "text": [
      "ТЕСТИРОВАНИЕ ИТЕРАЦИОННЫХ МЕТОДОВ\n",
      "==================================================\n",
      "Система AX = f:\n",
      "A =\n",
      "[2.666378855054332 0.42541675362351555 0.19899931893568856; -0.10500294879167169 -2.3494027321930813 0.17139226794107965; 0.29082987534847565 -1.170324656317088 -3.630933013643643]\n",
      "f = [15.0, 10.0, 10.0]\n",
      "Начальное приближение x₀ = [0.0, 0.0, 0.0]\n",
      "\n",
      "Точное решение: [6.415857, -4.598448, -0.758042]\n",
      "\n",
      "МЕТОД ЯКОБИ:\n",
      "----------------------------------------\n",
      "Полученное решение: [6.415857, -4.598448, -0.758042]\n",
      "Погрешность: 1.9608198931892438e-7\n",
      "Количество итераций: 10\n",
      "Время выполнения: 1.5e-5 секунд\n",
      "\n",
      "МЕТОД ЗЕЙДЕЛЯ:\n",
      "----------------------------------------\n",
      "Полученное решение: [6.415857, -4.598448, -0.758042]\n",
      "Погрешность: 2.556011662289701e-8\n",
      "Количество итераций: 6\n",
      "Время выполнения: 5.1e-5 секунд\n",
      "\n",
      "СРАВНЕНИЕ:\n",
      "----------------------------------------\n",
      "Метод Якоби: 10 итераций, 1.5e-5 секунд\n",
      "Метод Зейделя: 6 итераций, 5.1e-5 секунд\n",
      "Метод Зейделя сходится быстрее по количеству итераций\n"
     ]
    }
   ],
   "source": [
    "# Тестирование методов Якоби и Зейделя\n",
    "function test_methods()\n",
    "    println(\"ТЕСТИРОВАНИЕ ИТЕРАЦИОННЫХ МЕТОДОВ\")\n",
    "    println(\"=\"^50)\n",
    "    \n",
    "    # Система с диагональным преобладанием\n",
    "    A = generate_matrix_with_dominance(3, 2)\n",
    "    \n",
    "    f = [15.0, 10.0, 10.0]\n",
    "    x0 = zeros(3)\n",
    "    \n",
    "    println(\"Система AX = f:\")\n",
    "    println(\"A =\")\n",
    "    println(A)\n",
    "    println(\"f = \", f)\n",
    "    println(\"Начальное приближение x₀ = \", x0)\n",
    "    println()\n",
    "    \n",
    "    # Точное решение для проверки\n",
    "    x_exact = A \\ f\n",
    "    println(\"Точное решение: \", round.(x_exact, digits=6))\n",
    "    println()\n",
    "    \n",
    "    # Метод Якоби с замером времени\n",
    "    println(\"МЕТОД ЯКОБИ:\")\n",
    "    println(\"-\"^40)\n",
    "    time_j = @elapsed x_j, iter_j = jacobi_method_complete(A, f, x0)\n",
    "    println(\"Полученное решение: \", round.(x_j, digits=6))\n",
    "    println(\"Погрешность: \", norm(x_j - x_exact))\n",
    "    println(\"Количество итераций: \", iter_j)\n",
    "    println(\"Время выполнения: \", round(time_j, digits=6), \" секунд\")\n",
    "    println()\n",
    "    \n",
    "    # Метод Зейделя с замером времени\n",
    "    println(\"МЕТОД ЗЕЙДЕЛЯ:\")\n",
    "    println(\"-\"^40)\n",
    "    time_s = @elapsed x_s, iter_s = seidel_method_complete(A, f, x0)\n",
    "    println(\"Полученное решение: \", round.(x_s, digits=6))\n",
    "    println(\"Погрешность: \", norm(x_s - x_exact))\n",
    "    println(\"Количество итераций: \", iter_s)\n",
    "    println(\"Время выполнения: \", round(time_s, digits=6), \" секунд\")\n",
    "    println()\n",
    "    \n",
    "    # Сравнение эффективности методов\n",
    "    println(\"СРАВНЕНИЕ:\")\n",
    "    println(\"-\"^40)\n",
    "    println(\"Метод Якоби: $iter_j итераций, \", round(time_j, digits=6), \" секунд\")\n",
    "    println(\"Метод Зейделя: $iter_s итераций, \", round(time_s, digits=6), \" секунд\")\n",
    "    \n",
    "    if iter_s < iter_j\n",
    "        println(\"Метод Зейделя сходится быстрее по количеству итераций\")\n",
    "    end\n",
    "end\n",
    "\n",
    "test_methods()"
   ]
  }
 ],
 "metadata": {
  "kernelspec": {
   "display_name": "Julia 1.11.6",
   "language": "julia",
   "name": "julia-1.11"
  },
  "language_info": {
   "file_extension": ".jl",
   "mimetype": "application/julia",
   "name": "julia",
   "version": "1.11.6"
  }
 },
 "nbformat": 4,
 "nbformat_minor": 5
}
